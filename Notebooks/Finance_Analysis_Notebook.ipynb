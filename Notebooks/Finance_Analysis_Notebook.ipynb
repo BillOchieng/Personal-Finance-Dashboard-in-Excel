{
 "cells": [
  {
   "cell_type": "code",
   "execution_count": 4,
   "id": "a8ec9fdb",
   "metadata": {},
   "outputs": [
    {
     "ename": "ModuleNotFoundError",
     "evalue": "No module named 'pandas'",
     "output_type": "error",
     "traceback": [
      "\u001b[0;31m---------------------------------------------------------------------------\u001b[0m",
      "\u001b[0;31mModuleNotFoundError\u001b[0m                       Traceback (most recent call last)",
      "Cell \u001b[0;32mIn [4], line 1\u001b[0m\n\u001b[0;32m----> 1\u001b[0m \u001b[38;5;28;01mimport\u001b[39;00m \u001b[38;5;21;01mpandas\u001b[39;00m \u001b[38;5;28;01mas\u001b[39;00m \u001b[38;5;21;01mpd\u001b[39;00m\n\u001b[1;32m      2\u001b[0m \u001b[38;5;28;01mimport\u001b[39;00m \u001b[38;5;21;01mmatplotlib\u001b[39;00m\u001b[38;5;21;01m.\u001b[39;00m\u001b[38;5;21;01mpyplot\u001b[39;00m \u001b[38;5;28;01mas\u001b[39;00m \u001b[38;5;21;01mplt\u001b[39;00m\n\u001b[1;32m      3\u001b[0m \u001b[38;5;28;01mimport\u001b[39;00m \u001b[38;5;21;01mseaborn\u001b[39;00m \u001b[38;5;28;01mas\u001b[39;00m \u001b[38;5;21;01msns\u001b[39;00m\n",
      "\u001b[0;31mModuleNotFoundError\u001b[0m: No module named 'pandas'"
     ]
    }
   ],
   "source": [
    "import pandas as pd\n",
    "import matplotlib.pyplot as plt\n",
    "import seaborn as sns\n",
    "\n",
    "# Load data\n",
    "file_path = './data/transactions_sample.csv'\n",
    "df = pd.read_csv(file_path)\n",
    "df['Date'] = pd.to_datetime(df['Date'])\n",
    "df['Month'] = df['Date'].dt.to_period('M')\n",
    "\n",
    "# Overview\n",
    "print(\"First few rows of the dataset:\")\n",
    "df.head()\n",
    "\n",
    "# Category Spend\n",
    "category_summary = df.groupby('Category')['Amount'].sum().sort_values()\n",
    "print(\"\\nSpend by Category:\")\n",
    "print(category_summary)\n",
    "\n",
    "# Plot Spend by Category\n",
    "plt.figure(figsize=(10, 6))\n",
    "sns.barplot(x=category_summary.values, y=category_summary.index)\n",
    "plt.title('Total Spend by Category')\n",
    "plt.xlabel('Amount ($)')\n",
    "plt.tight_layout()\n",
    "plt.show()\n",
    "\n",
    "# Monthly Spending Trend\n",
    "monthly = df.groupby(['Month', 'Category'])['Amount'].sum().unstack().fillna(0)\n",
    "monthly.plot(kind='bar', stacked=True, figsize=(14, 6))\n",
    "plt.title('Monthly Spending Breakdown by Category')\n",
    "plt.ylabel('Amount ($)')\n",
    "plt.xlabel('Month')\n",
    "plt.tight_layout()\n",
    "plt.show()\n",
    "\n",
    "# Export results\n",
    "category_summary.to_csv('./data/spend_by_category.csv')\n"
   ]
  },
  {
   "cell_type": "code",
   "execution_count": null,
   "id": "c6e01fd7",
   "metadata": {},
   "outputs": [],
   "source": []
  }
 ],
 "metadata": {
  "kernelspec": {
   "display_name": "\"Python/Mu (mu_venv-38-20240125-112731)\"",
   "language": "python",
   "name": "mu_venv-38-20240125-112731"
  },
  "language_info": {
   "codemirror_mode": {
    "name": "ipython",
    "version": 3
   },
   "file_extension": ".py",
   "mimetype": "text/x-python",
   "name": "python",
   "nbconvert_exporter": "python",
   "pygments_lexer": "ipython3",
   "version": "3.8.12"
  }
 },
 "nbformat": 4,
 "nbformat_minor": 5
}
