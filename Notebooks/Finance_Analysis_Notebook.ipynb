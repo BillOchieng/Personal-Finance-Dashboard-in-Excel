{
 "cells": [
  {
   "cell_type": "code",
   "execution_count": null,
   "id": "a8ec9fdb",
   "metadata": {
    "vscode": {
     "languageId": "plaintext"
    }
   },
   "outputs": [],
   "source": [
    "import pandas as pd\n",
    "import matplotlib.pyplot as plt\n",
    "import seaborn as sns\n",
    "\n",
    "# Load data\n",
    "file_path = './data/transactions_sample.csv'\n",
    "df = pd.read_csv(file_path)\n",
    "df['Date'] = pd.to_datetime(df['Date'])\n",
    "df['Month'] = df['Date'].dt.to_period('M')\n",
    "\n",
    "# Overview\n",
    "print(\"First few rows of the dataset:\")\n",
    "df.head()\n",
    "\n",
    "# Category Spend\n",
    "category_summary = df.groupby('Category')['Amount'].sum().sort_values()\n",
    "print(\"\\nSpend by Category:\")\n",
    "print(category_summary)\n",
    "\n",
    "# Plot Spend by Category\n",
    "plt.figure(figsize=(10, 6))\n",
    "sns.barplot(x=category_summary.values, y=category_summary.index)\n",
    "plt.title('Total Spend by Category')\n",
    "plt.xlabel('Amount ($)')\n",
    "plt.tight_layout()\n",
    "plt.show()\n",
    "\n",
    "# Monthly Spending Trend\n",
    "monthly = df.groupby(['Month', 'Category'])['Amount'].sum().unstack().fillna(0)\n",
    "monthly.plot(kind='bar', stacked=True, figsize=(14, 6))\n",
    "plt.title('Monthly Spending Breakdown by Category')\n",
    "plt.ylabel('Amount ($)')\n",
    "plt.xlabel('Month')\n",
    "plt.tight_layout()\n",
    "plt.show()\n",
    "\n",
    "# Export results\n",
    "category_summary.to_csv('./data/spend_by_category.csv')\n"
   ]
  }
 ],
 "metadata": {
  "language_info": {
   "name": "python"
  }
 },
 "nbformat": 4,
 "nbformat_minor": 5
}
